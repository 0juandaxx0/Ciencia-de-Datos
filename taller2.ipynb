{
 "cells": [
  {
   "cell_type": "code",
   "execution_count": 1,
   "id": "d16bf7fb-6d7f-4ac2-b47b-f41f37462a3c",
   "metadata": {},
   "outputs": [],
   "source": [
    "import numpy as np\n",
    "import base64"
   ]
  },
  {
   "cell_type": "code",
   "execution_count": 18,
   "id": "a8f14e44-121c-4637-9b39-6ee0858eb189",
   "metadata": {},
   "outputs": [
    {
     "name": "stdout",
     "output_type": "stream",
     "text": [
      "Una empresa tiene dos sucursales con datos de ventas de 3 productos en 4 meses. Calcule ventas totales, mes con mayor y mener tendido, comparendo las dos sucursales. Concatena las matrices en una sola de 6x4.\n"
     ]
    }
   ],
   "source": [
    "mensaje = \"VW5hIGVtcHJlc2EgdGllbmUgZG9zIHN1Y3Vyc2FsZXMgY29uIGRhdG9zIGRlIHZlbnRhcyBkZSAzIHByb2R1Y3RvcyBlbiA0IG1lc2VzLiBDYWxjdWxlIHZlbnRhcyB0b3RhbGVzLCBtZXMgY29uIG1heW9yIHkgbWVuZXIgdGVuZGlkbywgY29tcGFyZW5kbyBsYXMgZG9zIHN1Y3Vyc2FsZXMuIENvbmNhdGVuYSBsYXMgbWF0cmljZXMgZW4gdW5hIHNvbGEgZGUgNng0Lg===\"\n",
    "print(base64.b64decode(mensaje).decode(\"utf-8\"))"
   ]
  },
  {
   "cell_type": "markdown",
   "id": "fb124d69-9967-48a6-aff6-d9e26e5b10c2",
   "metadata": {},
   "source": [
    "## Ejercicio 1"
   ]
  },
  {
   "cell_type": "code",
   "execution_count": 4,
   "id": "e5784012-3481-47fb-86fb-42d0c085775c",
   "metadata": {},
   "outputs": [
    {
     "name": "stdout",
     "output_type": "stream",
     "text": [
      "Salario de cada empleado:\n",
      " [1500000 2000000 1750000 2100000 1600000]\n",
      "Ventas de 2 productos en 4 meses:\n",
      " [[10 12 11 10]\n",
      " [40  8 30 12]\n",
      " [ 9 11  5 10]]\n",
      "Temperatura de 2 ciudades, 3 dias y resgitro de 4 veces al dia:\n",
      " [[[ 0  1  2  3]\n",
      "  [ 4  5  6  7]\n",
      "  [ 8  9 10 11]]\n",
      "\n",
      " [[12 13 14 15]\n",
      "  [16 17 18 19]\n",
      "  [20 21 22 23]]]\n"
     ]
    }
   ],
   "source": [
    "salarios = np.array([1500000,2000000,1750000,2100000,1600000])\n",
    "ventas = np.array([[10,12,11,10],[40,8,30,12],[9,11,5,10]])\n",
    "temp = np.arange(24).reshape(2,3,4)\n",
    "print(\"Salario de cada empleado:\\n\", salarios)\n",
    "print(\"Ventas de 2 productos en 4 meses:\\n\", ventas)\n",
    "print(\"Temperatura de 2 ciudades, 3 dias y resgitro de 4 veces al dia:\\n\",temp)"
   ]
  },
  {
   "cell_type": "markdown",
   "id": "a0852537-0f83-4519-bf85-2bccc906f0e7",
   "metadata": {},
   "source": [
    "## Ejercicio 2"
   ]
  },
  {
   "cell_type": "code",
   "execution_count": 5,
   "id": "d8c157f5-fab4-4074-9467-d1e0651fcd01",
   "metadata": {},
   "outputs": [
    {
     "name": "stdout",
     "output_type": "stream",
     "text": [
      "Tamaño de salarios:  (5,)\n",
      "Tamaño de ventas:  (3, 4)\n",
      "Tamaño de temperaturas:  (2, 3, 4)\n",
      "Dimensiones de salarios:  1\n",
      "Dimensiones de ventas:  2\n",
      "Dimensiones de temperaturas:  3\n",
      "Cantidad elementos de salarios:  5\n",
      "Cantidad elementos de ventas:  12\n",
      "Cantidad elementos de temperaturas:  24\n"
     ]
    }
   ],
   "source": [
    "tam_salarios = salarios.shape\n",
    "tam_ventas = ventas.shape\n",
    "tam_temp = temp.shape\n",
    "dim_salarios = salarios.ndim\n",
    "dim_ventas = ventas.ndim\n",
    "dim_temp = temp.ndim\n",
    "cant_salarios = salarios.size\n",
    "cant_ventas = ventas.size\n",
    "cant_temp = temp.size\n",
    "print(\"Tamaño de salarios: \", tam_salarios)\n",
    "print(\"Tamaño de ventas: \", tam_ventas)\n",
    "print(\"Tamaño de temperaturas: \", tam_temp)\n",
    "print(\"Dimensiones de salarios: \", dim_salarios)\n",
    "print(\"Dimensiones de ventas: \", dim_ventas)\n",
    "print(\"Dimensiones de temperaturas: \", dim_temp)\n",
    "print(\"Cantidad elementos de salarios: \", cant_salarios)\n",
    "print(\"Cantidad elementos de ventas: \", cant_ventas)\n",
    "print(\"Cantidad elementos de temperaturas: \", cant_temp)"
   ]
  },
  {
   "cell_type": "markdown",
   "id": "b8d4b24f-5d89-44b1-a251-036680679bd6",
   "metadata": {},
   "source": [
    "## Ejercicio 3"
   ]
  },
  {
   "cell_type": "code",
   "execution_count": 6,
   "id": "b4600a33-8d0b-48ac-906c-d1d04005c3c8",
   "metadata": {},
   "outputs": [
    {
     "name": "stdout",
     "output_type": "stream",
     "text": [
      "Inventario:\n",
      " [[ 0  1  2  3]\n",
      " [ 4  5  6  7]\n",
      " [ 8  9 10 11]]\n",
      "Mayores a 9:\n",
      " [[ True  True  True  True]\n",
      " [ True False  True  True]\n",
      " [False  True False  True]]\n",
      "Salarios ordenados:  [1500000 1600000 1750000 2000000 2100000]\n",
      "Ventas al cuadrado:\n",
      " [[ 100  144  121  100]\n",
      " [1600   64  900  144]\n",
      " [  81  121   25  100]]\n"
     ]
    }
   ],
   "source": [
    "inventario = np.arange(12).reshape(3,4)\n",
    "condicion = np.array(ventas>9)\n",
    "orden_salarios = np.sort(salarios)\n",
    "potencia = np.power(ventas,2)\n",
    "print(\"Inventario:\\n\",inventario)\n",
    "print(\"Mayores a 9:\\n\", condicion)\n",
    "print(\"Salarios ordenados: \", orden_salarios)\n",
    "print(\"Ventas al cuadrado:\\n\", potencia)"
   ]
  },
  {
   "cell_type": "markdown",
   "id": "5c20dce6-5df3-4df2-8932-070a9c1e976c",
   "metadata": {},
   "source": [
    "## Ejercicio 4"
   ]
  },
  {
   "cell_type": "code",
   "execution_count": 7,
   "id": "b6eff3db-b4b5-46db-b3ea-c296f704bd65",
   "metadata": {},
   "outputs": [
    {
     "name": "stdout",
     "output_type": "stream",
     "text": [
      "Ventas mayores o iguales 30:\n",
      " [[False False False False]\n",
      " [ True False  True False]\n",
      " [False False False False]]\n",
      "la temperatura maxima es: 23 y la minima es 0\n",
      "Nuevos salarios:  [8040000 7200000 4500000 7000000 6600000]\n"
     ]
    }
   ],
   "source": [
    "comparacion = np.array(ventas>=30)\n",
    "temp_max = np.max(temp)\n",
    "temp_min = np.min(temp)\n",
    "suc1 = np.array([3000000,2800000,1500000,2300000,2400000])\n",
    "suc2 = np.array([3540000,2400000,1250000,2600000,2600000])\n",
    "sal_nuevos = salarios+suc1+suc2\n",
    "print(\"Ventas mayores o iguales 30:\\n\",comparacion)\n",
    "print(f\"la temperatura maxima es: {temp_max} y la minima es {temp_min}\")\n",
    "print(\"Nuevos salarios: \", sal_nuevos)"
   ]
  },
  {
   "cell_type": "markdown",
   "id": "888f5d52-4ee3-4ae5-8eb4-024c46c7e4df",
   "metadata": {},
   "source": [
    "## Ejercicio 5"
   ]
  },
  {
   "cell_type": "code",
   "execution_count": 17,
   "id": "b4c4f3af-2f85-434e-8cae-0023fefb4011",
   "metadata": {},
   "outputs": [
    {
     "name": "stdout",
     "output_type": "stream",
     "text": [
      "Suma de ventas + Inventario:\n",
      " [[10 13 13 13]\n",
      " [44 13 36 19]\n",
      " [17 20 15 21]]\n",
      "Resta de inventario -5:\n",
      " [[ 5  7  6  5]\n",
      " [35  3 25  7]\n",
      " [ 4  6  0  5]]\n",
      "Multiplicar ventas x2:\n",
      " [[20 24 22 20]\n",
      " [80 16 60 24]\n",
      " [18 22 10 20]]\n",
      "Dividir ventas /2:\n",
      " [[ 5.   6.   5.5  5. ]\n",
      " [20.   4.  15.   6. ]\n",
      " [ 4.5  5.5  2.5  5. ]]\n"
     ]
    }
   ],
   "source": [
    "suma = np.add(ventas,inventario)\n",
    "resta = np.subtract(ventas,5)\n",
    "mult = np.multiply(ventas,2)\n",
    "div = np.divide(ventas,2)\n",
    "print(\"Suma de ventas + Inventario:\\n\",suma)\n",
    "print(\"Resta de inventario -5:\\n\",resta)\n",
    "print(\"Multiplicar ventas x2:\\n\",mult)\n",
    "print(\"Dividir ventas /2:\\n\",div)"
   ]
  },
  {
   "cell_type": "markdown",
   "id": "b3467d50-8c0f-4ec8-a9d3-8ddc99fdb031",
   "metadata": {},
   "source": [
    "## Ejercicio 6 (mini-proyecto)"
   ]
  },
  {
   "cell_type": "code",
   "execution_count": 36,
   "id": "c6e539bd-df02-498a-a974-7f6bfa752ca3",
   "metadata": {},
   "outputs": [
    {
     "name": "stdout",
     "output_type": "stream",
     "text": [
      "Sucursal 1: \n",
      " [[30 22 31 32]\n",
      " [40 28 35 22]\n",
      " [29 31 25 37]]\n",
      "Sucursal 2: \n",
      " [[25 32 21 31]\n",
      " [30 25 25 28]\n",
      " [23 33 35 34]]\n",
      "Ventas Totales de los 4 meses en ambas sucursales:  704\n",
      "Meses con mayor venta\n",
      "Sucursal 1: 99 - Sucursal 2: 93\n",
      "Meses con menor venta\n",
      "Sucursal 1: 81 - Sucursal 2: 78\n",
      "Sucursales concatenadas (6, 4):\n",
      " [[30 22 31 32]\n",
      " [40 28 35 22]\n",
      " [29 31 25 37]\n",
      " [25 32 21 31]\n",
      " [30 25 25 28]\n",
      " [23 33 35 34]]\n"
     ]
    }
   ],
   "source": [
    "sucursal1 = np.array([[30,22,31,32],[40,28,35,22],[29,31,25,37]])\n",
    "sucursal2 = np.array([[25,32,21,31],[30,25,25,28],[23,33,35,34]])\n",
    "ventas_sucursales = np.add(sucursal1,sucursal2)\n",
    "ventas_totales = np.sum(ventas_sucursales)\n",
    "mes_suc1 = sucursal1.sum(axis=0)\n",
    "mes_suc2 = sucursal2.sum(axis=0)\n",
    "suc_unidas = np.concatenate((sucursal1,sucursal2))\n",
    "print(\"Sucursal 1: \\n\", sucursal1)\n",
    "print(\"Sucursal 2: \\n\", sucursal2)\n",
    "print(\"Ventas Totales de los 4 meses en ambas sucursales: \",ventas_totales)\n",
    "print(f\"Meses con mayor venta\\nSucursal 1: {np.max(mes_suc1)} - Sucursal 2: {np.max(mes_suc2)}\")\n",
    "print(f\"Meses con menor venta\\nSucursal 1: {np.min(mes_suc1)} - Sucursal 2: {np.min(mes_suc2)}\")\n",
    "print(f\"Sucursales concatenadas {suc_unidas.shape}:\\n\",suc_unidas)"
   ]
  }
 ],
 "metadata": {
  "kernelspec": {
   "display_name": "Python 3 (ipykernel)",
   "language": "python",
   "name": "python3"
  },
  "language_info": {
   "codemirror_mode": {
    "name": "ipython",
    "version": 3
   },
   "file_extension": ".py",
   "mimetype": "text/x-python",
   "name": "python",
   "nbconvert_exporter": "python",
   "pygments_lexer": "ipython3",
   "version": "3.12.7"
  }
 },
 "nbformat": 4,
 "nbformat_minor": 5
}
